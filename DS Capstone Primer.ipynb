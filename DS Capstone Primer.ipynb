{
 "cells": [
  {
   "cell_type": "markdown",
   "id": "65afa837",
   "metadata": {},
   "source": [
    "# Data Science Capstone Fall Semester Presentations Read-Ahead\n",
    "## Fall 2022\n",
    "### USAFA Data Science Class of 2023"
   ]
  },
  {
   "cell_type": "markdown",
   "id": "4e6089db",
   "metadata": {},
   "source": [
    "## About the Data Science Capstone\n",
    "\n",
    "The USAFA Data Science Capstone is a course unlike any other at USAFA. Since the class of 2023 is the first class of data science majors at USAFA, this course is in its first iteration. As such, professors and students sought an open-ended course that would allow 1) professors to determine what skills students had mastered over the last four years and 2) students to prove their consummate data science skills.\n",
    "\n",
    "In early fall 2022, Maj Brian Fagan approached USAFA Data Science. He sought to improve upon the Department of Defense's Basic Allowance for Housing (BAH) formula. To tackle this problem, our class first began together, reading through as many documents on BAH as possible. After this initial phase, we then split into groups of 4-5, with the singular goal of improving BAH in some way. Cadets were given no limits, requirements, minimums, or maximums. We were simply unleashed and told to check in roughly every two weeks with substantive progress."
   ]
  },
  {
   "cell_type": "markdown",
   "id": "502b81b5",
   "metadata": {},
   "source": [
    "## Why BAH Needs Work\n",
    "\n",
    "[As the DoD is aware](https://www.defense.gov/News/Releases/Release/Article/3167769/dod-announces-immediate-and-long-term-actions-to-help-strengthen-the-economic-s/#:~:text=Institute%20automatic%20increases%20in%20BAH,into%20effect%20in%20October%202022), BAH is in need of revision. As our class began our work, considering resources compiled by Maj Fagan and found by official sources online, we found several aspects of the BAH formulation that gave us pause. \n",
    "\n",
    "### A *non-exhaustive* list of our biggest concerns:\n",
    "    - How Military Housing Areas (MHAs) were derived\n",
    "    - The binary of either having dependents or not (as opposed to considering how many dependents a servicemember has)\n",
    "    - How property values in an area were assessed\n",
    "        - What constitutes suitable housing\n",
    "        - How frequently property values are assessed\n",
    "        - In what areas and with what standards"
   ]
  },
  {
   "cell_type": "markdown",
   "id": "2a4b5f88",
   "metadata": {},
   "source": [
    "## What We Did\n",
    "\n",
    "Each group approached this problem differently. Some groups took a policy approach, some began by trying to source as much data as possible. Some groups worked on a deliverable BAH formula, incorporating factors like crime, education, and number of dependents. Other groups honed in on valuating properties with more fidelity than the original model. "
   ]
  },
  {
   "cell_type": "markdown",
   "id": "79a9d3a7",
   "metadata": {},
   "source": [
    "## What Might Prove Useful to Decision Makers\n",
    "\n",
    "Though each group took a distinct approach to this nebulous problem, each finished the semester with a novel contribution to this problem, which we hope will prove valuable to those with policy power.\n",
    "\n",
    "**De Ros, Herrera, Joseph, McDonald:** Data visualizations of Zillow housing metrics by domestic Air Force Bases\n",
    "\n",
    "**Deihl, Hughes, Kimpler, Kirchoff:** Model (formula) for BAH considering crime data, local rent data, distance from duty station, local school data, and number of dependents, focused around Fort Bragg.\n",
    "\n",
    "**Allerheiligen, Murphy, Penoyer:** *(In the works)* Tool to notify decision-makers when BAH strays from civilian market\n",
    "\n",
    "**Benson, Brayboy, Haut, McCormick:** Effective writing and policy ideas in tandem with data about changes in housing market versus inflation\n",
    "\n",
    "**Hepner, Landers, Malone, Van Meter:** Linear regression model (formula) for BAH, considering unemployment pay, average area rent, COLA, driving distance from duty station, local school rankings, crime rates."
   ]
  },
  {
   "cell_type": "markdown",
   "id": "40078e99",
   "metadata": {},
   "source": [
    "## What We Need From You\n",
    "\n",
    "**BLUF: We need housing data.**\n",
    "\n",
    "There exists lots of housing data on the internet, from a number of sources. The cadets in this class have tried to access many of these sources with little to no success. As one might imagine, it proves immensely difficult to think about providing compensation for housing without knowing what the housing market looks like. As such, if the USAF could pay Zillow (and/or any of the other major real estate sites like [realtor.com](https://www.realtor.com), [Redfin](https://www.redfin.com/), etc.) to provide the USAFA Data Science program with unrestricted access to their data), we would have much more information to work with and would be better equipped to provide the USAF with actionable products."
   ]
  }
 ],
 "metadata": {
  "kernelspec": {
   "display_name": "Python 3 (ipykernel)",
   "language": "python",
   "name": "python3"
  },
  "language_info": {
   "codemirror_mode": {
    "name": "ipython",
    "version": 3
   },
   "file_extension": ".py",
   "mimetype": "text/x-python",
   "name": "python",
   "nbconvert_exporter": "python",
   "pygments_lexer": "ipython3",
   "version": "3.9.13"
  }
 },
 "nbformat": 4,
 "nbformat_minor": 5
}
