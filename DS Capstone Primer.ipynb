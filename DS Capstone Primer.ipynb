{
 "cells": [
  {
   "cell_type": "markdown",
   "id": "65afa837",
   "metadata": {},
   "source": [
    "# Data Science Capstone Fall Semester Presentations Read-Ahead\n",
    "## Fall 2022\n",
    "### USAFA Data Science Class of 2023"
   ]
  },
  {
   "cell_type": "markdown",
   "id": "4e6089db",
   "metadata": {},
   "source": [
    "## About the Data Science Capstone\n",
    "\n",
    "The USAFA Data Science Capstone is a course unlike any other at USAFA. Since the class of 2023 is the first class of data science majors at USAFA, this course is in its first iteration. As such, professors and students sought an open-ended course that would allow 1) professors to determine what skills students had mastered over the last four years and 2) students to prove their consummate data science skills.\n",
    "\n",
    "In early fall 2022, Maj Brian Fagan approached USAFA Data Science. He sought to improve upon the Department of Defense's Basic Allowance for Housing (BAH) formula. "
   ]
  },
  {
   "cell_type": "code",
   "execution_count": null,
   "id": "8702cced",
   "metadata": {},
   "outputs": [],
   "source": []
  }
 ],
 "metadata": {
  "kernelspec": {
   "display_name": "Python 3 (ipykernel)",
   "language": "python",
   "name": "python3"
  },
  "language_info": {
   "codemirror_mode": {
    "name": "ipython",
    "version": 3
   },
   "file_extension": ".py",
   "mimetype": "text/x-python",
   "name": "python",
   "nbconvert_exporter": "python",
   "pygments_lexer": "ipython3",
   "version": "3.9.13"
  }
 },
 "nbformat": 4,
 "nbformat_minor": 5
}
