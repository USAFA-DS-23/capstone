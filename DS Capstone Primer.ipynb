{
 "cells": [
  {
   "cell_type": "markdown",
   "source": [
    "# Data Science Capstone Fall Semester Presentations Read-Ahead\n",
    "## Fall 2022\n",
    "### USAFA Data Science Class of 2023"
   ],
   "metadata": {}
  },
  {
   "cell_type": "markdown",
   "source": [
    "## About the Data Science Capstone\r\n",
    "\r\n",
    "The USAFA Data Science Capstone is a course unlike any other at USAFA. Since the class of 2023 is the first class of data science majors at USAFA, this course is in its first iteration. As such, professors and students sought an open-ended course that would allow 1) professors to determine what skills students had mastered over the last four years and 2) students to prove their consummate data science skills on a real-world problem.  There are 3 major course objectives:\r\n",
    "\r\n",
    "1. Students should be applying skills they've acquired in their program of study.\r\n",
    "2. Students should be learning new skills to apply to this problem and in so doing, practice the habits of life-long learning and self-directed up-skilling.\r\n",
    "3. Students should practice communicating and effectively telling stories with data.\r\n",
    "\r\n",
    "\r\n",
    "In early fall 2022, Maj Brian Fagan approached USAFA Data Science. He sought to improve upon the Department of Defense's Basic Allowance for Housing (BAH) formula. To tackle this problem, our class first began together, reading through as many documents on BAH as possible. After this initial phase, we then split into groups of 4-5, with the singular goal of improving BAH in some way. Cadets were given no limits, requirements, minimums, or maximums. We were simply unleashed and told to check in roughly every two weeks with substantive progress."
   ],
   "metadata": {}
  },
  {
   "cell_type": "markdown",
   "source": [
    "## Why BAH Needs Work\r\n",
    "\r\n",
    "[As the DoD is aware](https://www.defense.gov/News/Releases/Release/Article/3167769/dod-announces-immediate-and-long-term-actions-to-help-strengthen-the-economic-s/#:~:text=Institute%20automatic%20increases%20in%20BAH,into%20effect%20in%20October%202022), BAH is in need of revision. As our class began our work, considering resources compiled by Maj Fagan and found by official sources online, we found several aspects of the BAH formulation that gave us pause. From Maj Fagan's initial research alone, for example, it was discovered that the BAH entitlement for *all officers below O-3, O-3's without dependents, and E-8 and below with duty locations in the National Capitol Region (NCR) were below Section 8 housing income levels.*\r\n",
    "\r\n",
    "### A *non-exhaustive* list of our biggest concerns:\r\n",
    "    - How Military Housing Areas (MHAs) were derived\r\n",
    "    - The binary of either having dependents or not (as opposed to considering how many dependents a servicemember has)\r\n",
    "    - How property values in an area were assessed\r\n",
    "        - What constitutes suitable housing\r\n",
    "        - How frequently property values are assessed (whether data used for calculations is temporally relevant)\r\n",
    "        - In what areas and with what standards\r\n",
    "        \r\n",
    "       "
   ],
   "metadata": {},
   "attachments": {}
  },
  {
   "cell_type": "markdown",
   "source": [
    "## What We Did\r\n",
    "\r\n",
    "Each group approached this problem differently. Some groups took a policy approach, some began by trying to source as much data as possible. Some groups worked on a deliverable BAH formula, incorporating factors like crime, education, and number of dependents. Other groups honed in on valuating properties with more fidelity than the original model. \r\n",
    "\r\n",
    "Though each group took a distinct approach to this nebulous problem, each finished the semester with a novel contribution to this problem, which we hope will prove valuable to senior leaders with the ability to influence policy. A short summary of those contributions, broken out by group is below:\r\n",
    "\r\n",
    "**De Ros, Herrera, Joseph, McDonald:** Data visualizations of Zillow housing metrics by domestic Air Force Bases\r\n",
    "\r\n",
    "**Deihl, Hughes, Kimpler, Kirchoff:** Model (formula) for BAH considering crime data, local rent data, distance from duty station, local school data, and number of dependents, focused around Fort Bragg.\r\n",
    "\r\n",
    "**Allerheiligen, Murphy, Penoyer:** *(In the works)* Tool to notify decision-makers when BAH strays from civilian market\r\n",
    "\r\n",
    "**Benson, Brayboy, Haut, McCormick:** Effective writing and policy ideas in tandem with data about changes in housing market versus inflation\r\n",
    "\r\n",
    "**Hepner, Landers, Malone, Van Meter:** Linear regression model (formula) for BAH, considering unemployment pay, average area rent, COLA, driving distance from duty station, local school rankings, crime rates."
   ],
   "metadata": {}
  },
  {
   "cell_type": "markdown",
   "source": [
    "## How You Can Help\r\n",
    "\r\n",
    "**BLUF: We need data.**\r\n",
    "\r\n",
    "It is not only immensely difficult but also rather foolish to attempt construction of housing compensation model without knowing what the housing market looks like. There exists lots of housing data on the internet, from a number of sources. Cadet researchers have tried to access many of these sources with little to no success. The owners of this data recognize the value of this data and are predictably taking steps to ensure they are properly compensated for access to it.   Access to data from national Multiple Listing Service (MLS) or even one of several consumer focused websites ([Zillow](https://zillow.com), [realtor.com](https://www.realtor.com), [Redfin](https://www.redfin.com/), etc.) would give cadet researchers much more information to work with and would better equipped them to provide the USAF (and DoD) with actionable products.  \r\n",
    "\r\n",
    "Additionally, we recognize the BAH model creates and supports a financial obligation on the part of DoD.  Evaluating the impacts, financial and otherwise, of a proposed change to such a system are a critical part of the research process.  Thus, access to anonymized member data (rank, duty location, # of dependents, dual-military couples, join-spouse status, etc.) is critical to evaluating the effects of any proposed change to the computational model and supporting policies."
   ],
   "metadata": {}
  }
 ],
 "metadata": {
  "kernelspec": {
   "display_name": "Python 3 (ipykernel)",
   "language": "python",
   "name": "python3"
  },
  "language_info": {
   "codemirror_mode": {
    "name": "ipython",
    "version": 3
   },
   "file_extension": ".py",
   "mimetype": "text/x-python",
   "name": "python",
   "nbconvert_exporter": "python",
   "pygments_lexer": "ipython3",
   "version": "3.9.13"
  }
 },
 "nbformat": 4,
 "nbformat_minor": 5
}