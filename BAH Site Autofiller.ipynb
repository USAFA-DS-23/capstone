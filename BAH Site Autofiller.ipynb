{
 "cells": [
  {
   "cell_type": "markdown",
   "id": "b6fd85ea",
   "metadata": {},
   "source": [
    "Doing this to find MHA for zip codes"
   ]
  },
  {
   "cell_type": "code",
   "execution_count": 2,
   "id": "a8b8b378",
   "metadata": {},
   "outputs": [],
   "source": [
    "#imports\n",
    "from selenium import webdriver\n",
    "from selenium.webdriver.common.keys import Keys\n",
    "import time"
   ]
  },
  {
   "cell_type": "code",
   "execution_count": 12,
   "id": "7f6ab869",
   "metadata": {},
   "outputs": [
    {
     "ename": "AttributeError",
     "evalue": "'WebElement' object has no attribute 'send_key'",
     "output_type": "error",
     "traceback": [
      "\u001b[1;31m---------------------------------------------------------------------------\u001b[0m",
      "\u001b[1;31mAttributeError\u001b[0m                            Traceback (most recent call last)",
      "\u001b[1;32m~\\AppData\\Local\\Temp\\ipykernel_12808\\4070541601.py\u001b[0m in \u001b[0;36m<module>\u001b[1;34m\u001b[0m\n\u001b[0;32m      8\u001b[0m \u001b[0mtextbox\u001b[0m \u001b[1;33m=\u001b[0m \u001b[0mdriver\u001b[0m\u001b[1;33m.\u001b[0m\u001b[0mfind_elements_by_name\u001b[0m\u001b[1;33m(\u001b[0m\u001b[1;34m'dnn$ctr29241$Form$ctrlDigbahcalcZipcode'\u001b[0m\u001b[1;33m)\u001b[0m\u001b[1;33m\u001b[0m\u001b[1;33m\u001b[0m\u001b[0m\n\u001b[0;32m      9\u001b[0m \u001b[1;33m\u001b[0m\u001b[0m\n\u001b[1;32m---> 10\u001b[1;33m \u001b[0mtextbox\u001b[0m\u001b[1;33m[\u001b[0m\u001b[1;36m0\u001b[0m\u001b[1;33m]\u001b[0m\u001b[1;33m.\u001b[0m\u001b[0msend_key\u001b[0m\u001b[1;33m(\u001b[0m\u001b[1;34m'Test'\u001b[0m\u001b[1;33m)\u001b[0m\u001b[1;33m\u001b[0m\u001b[1;33m\u001b[0m\u001b[0m\n\u001b[0m",
      "\u001b[1;31mAttributeError\u001b[0m: 'WebElement' object has no attribute 'send_key'"
     ]
    }
   ],
   "source": [
    "#driver\n",
    "driver = webdriver.Chrome('C:\\\\Users\\\\C23Daniel.Joseph\\\\OneDrive - usafa.edu\\\\DS Capstone\\\\capstone\\\\chromedriver.exe')\n",
    "\n",
    "#open URL\n",
    "driver.get('https://www.travel.dod.mil/Allowances/Basic-Allowance-for-Housing/BAH-Rate-Lookup/')\n",
    "time.sleep(1.5)\n",
    "\n",
    "textbox = driver.find_element_by_name('dnn$ctr29241$Form$ctrlDigbahcalcZipcode')\n",
    "\n",
    "textbox.send_key('Test')"
   ]
  },
  {
   "cell_type": "code",
   "execution_count": null,
   "id": "4be49148",
   "metadata": {},
   "outputs": [],
   "source": []
  }
 ],
 "metadata": {
  "kernelspec": {
   "display_name": "Python 3 (ipykernel)",
   "language": "python",
   "name": "python3"
  },
  "language_info": {
   "codemirror_mode": {
    "name": "ipython",
    "version": 3
   },
   "file_extension": ".py",
   "mimetype": "text/x-python",
   "name": "python",
   "nbconvert_exporter": "python",
   "pygments_lexer": "ipython3",
   "version": "3.9.13"
  }
 },
 "nbformat": 4,
 "nbformat_minor": 5
}
