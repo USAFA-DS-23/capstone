{
 "cells": [
  {
   "cell_type": "code",
   "execution_count": 190,
   "id": "98394847",
   "metadata": {},
   "outputs": [],
   "source": [
    "#imports\n",
    "import pandas as pd\n",
    "import numpy as np\n",
    "import plotly.express as px\n",
    "import time\n",
    "import json\n",
    "import requests"
   ]
  },
  {
   "cell_type": "code",
   "execution_count": 3,
   "id": "0445c961",
   "metadata": {},
   "outputs": [],
   "source": [
    "#load datasets, need to change filepath if using\n",
    "df = pd.read_csv('C:\\\\Users\\\\C23Daniel.Joseph\\\\OneDrive - usafa.edu\\\\DS Capstone\\\\capstone\\\\AFBs', encoding = 'utf8')\n",
    "df2 = pd.read_csv('C:\\\\Users\\\\C23Daniel.Joseph\\\\OneDrive - usafa.edu\\\\DS Capstone\\\\capstone\\\\AFB Raw Data', encoding = 'utf8')"
   ]
  },
  {
   "cell_type": "code",
   "execution_count": 4,
   "id": "87e0fc6c",
   "metadata": {},
   "outputs": [],
   "source": [
    "#drops unnecessary columns\n",
    "df2.drop(['Unnamed: 0','Data', 'place_id', 'licence', 'osm_type', 'osm_id', 'lat', 'lon',\n",
    "          'boundingbox', 'address.town','address.county',  'address.ISO3166-2-lvl4',\n",
    "          'address.country_code', 'address.amenity','address.house_number', 'address.man_made',\n",
    "          'address.aeroway', 'address.hamlet', 'address.military', 'address.locality',\n",
    "          'address.neighbourhood', 'address.village', 'address.suburb', 'address.historic',\n",
    "          'address.township', 'address.building', 'address.residential', 'display_name',\n",
    "          'address.municipality', 'address.quarter', 'address.office', 'State or area',\n",
    "          'address.city_district', 'address.leisure', 'address.borough',\n",
    "          'address.province', 'address.ISO3166-2-lvl6', 'address.tourism',\n",
    "          'address.archipelago', 'address.state_district', 'address.road', 'address.city',\n",
    "          'address.industrial', 'address.region', 'address.ISO3166-2-lvl3', 'address.postcode'],\n",
    "         axis = 1,\n",
    "         inplace = True\n",
    "        )\n",
    "\n",
    "#renames columns\n",
    "df2.rename(columns = {'address.state':'State','address.country':'Country'}, inplace = True)\n",
    "\n",
    "#drops bases that contain the mentioned words\n",
    "df2 = df2[df2.Name.str.contains('Airport|Field|Airfield|Camp|Facility|Site')==False]"
   ]
  },
  {
   "cell_type": "code",
   "execution_count": 5,
   "id": "962a2f01",
   "metadata": {},
   "outputs": [],
   "source": [
    "#initialize empty comlumn to eventually store neighboring zips\n",
    "df2['Neighbor Zips'] = None\n",
    "\n",
    "#initialize empty list to store neighboring zips by zip code\n",
    "neighborListZips = []"
   ]
  },
  {
   "cell_type": "code",
   "execution_count": 6,
   "id": "e92209c1",
   "metadata": {},
   "outputs": [],
   "source": [
    "#webscrape of geonames\n",
    "\n",
    "#initialize variables for webscrape\n",
    "country = 'US'\n",
    "radius = '15'\n",
    "user = 'twister101999'\n",
    "\n",
    "neighborListZips = []\n",
    "\n",
    "#webscrape\n",
    "for row in df2.Zip:\n",
    "    url = 'http://api.geonames.org/findNearbyPostalCodesJSON?postalcode=' + str(row) + '&country=' + country + '&radius=' + radius + '&username=' + user\n",
    "    time.sleep(1)\n",
    "    page = requests.get(url)\n",
    "    \n",
    "    neighborListZips.append(page.text)"
   ]
  },
  {
   "cell_type": "code",
   "execution_count": 7,
   "id": "76ad9514",
   "metadata": {},
   "outputs": [],
   "source": [
    "#insert list into empty column\n",
    "df2['Neighbor Zips'] = neighborListZips\n",
    "\n",
    "#json-ify the column of neighbors\n",
    "df2['Neighbor Zips'] = df2['Neighbor Zips'].apply(json.loads)"
   ]
  },
  {
   "cell_type": "code",
   "execution_count": 8,
   "id": "55bbb83f",
   "metadata": {},
   "outputs": [],
   "source": [
    "#function to extract zip codes from json\n",
    "\n",
    "def extractZips(string):\n",
    "    \n",
    "    cellZips = []\n",
    "    \n",
    "    try:\n",
    "        for zipCode in string['postalCodes']:\n",
    "            cellZips.append(zipCode['postalCode'])\n",
    "    except:\n",
    "        pass\n",
    "        \n",
    "    return cellZips"
   ]
  },
  {
   "cell_type": "code",
   "execution_count": 9,
   "id": "617d9d3e",
   "metadata": {},
   "outputs": [],
   "source": [
    "#perform extractZips() on neighbor zips columns\n",
    "df2['Neighbor Zips'] = df2['Neighbor Zips'].apply(extractZips)"
   ]
  },
  {
   "cell_type": "markdown",
   "id": "42647009",
   "metadata": {},
   "source": [
    "# ReLoad Data"
   ]
  },
  {
   "cell_type": "code",
   "execution_count": 243,
   "id": "80665a29",
   "metadata": {},
   "outputs": [],
   "source": [
    "df_out = pd.read_excel('C:\\\\Users\\\\C23Daniel.Joseph\\\\OneDrive - usafa.edu\\\\DS Capstone\\\\capstone\\\\AFBs with Neighbor Zips.xlsx')\n",
    "ZHVI =pd.read_csv('C:\\\\Users\\\\C23Daniel.Joseph\\\\OneDrive - usafa.edu\\\\DS Capstone\\\\capstone\\\\Zillow Data\\\\ZHVI_by_ZipCode.csv', encoding = 'utf8')"
   ]
  },
  {
   "cell_type": "code",
   "execution_count": 244,
   "id": "ec691eca",
   "metadata": {},
   "outputs": [],
   "source": [
    "df_out = df_out[df_out.Country == 'United States'] #get rid of OCONUS bases"
   ]
  },
  {
   "cell_type": "code",
   "execution_count": 245,
   "id": "111a9662",
   "metadata": {},
   "outputs": [],
   "source": [
    "df_out = df_out[df_out['Neighbor 1'].notna()] #only keep bases with neighbors"
   ]
  },
  {
   "cell_type": "code",
   "execution_count": 246,
   "id": "15ab72d9",
   "metadata": {},
   "outputs": [],
   "source": [
    "df_out.drop(['Location', 'Lat', 'Long', 'State', 'Neighbor Zips','Unnamed: 0', 'Country'], axis = 1, inplace = True) # get rid of extra cols"
   ]
  },
  {
   "cell_type": "code",
   "execution_count": 247,
   "id": "ea647589",
   "metadata": {},
   "outputs": [],
   "source": [
    "df_out = pd.melt(df_out, id_vars =['Name']) # melt dataframe\n",
    "df_out.rename(columns = {'value':'Zip'}, inplace = True)"
   ]
  },
  {
   "cell_type": "code",
   "execution_count": 248,
   "id": "923695d9",
   "metadata": {},
   "outputs": [],
   "source": [
    "df_out = df_out[df_out['Zip'].notna()] #only keep bases with neighbors"
   ]
  },
  {
   "cell_type": "code",
   "execution_count": 249,
   "id": "d5d57f14",
   "metadata": {},
   "outputs": [],
   "source": [
    "df_out.Zip = df_out.Zip.astype(str)\n",
    "df_out = df_out[df_out.Zip != 'None']\n",
    "df_out.Zip = pd.to_numeric(df_out.Zip, errors='coerce')\n",
    "df_out.Zip = df_out.Zip.astype(int)"
   ]
  },
  {
   "cell_type": "code",
   "execution_count": 250,
   "id": "f1227db3",
   "metadata": {},
   "outputs": [],
   "source": [
    "#function to make zip codes length five\n",
    "def lengthFive(zipCode):\n",
    "    zipCode = str(zipCode) #convert zip code to string\n",
    "    \n",
    "    if len(zipCode) != 5: #if zip code length isnt five\n",
    "        zipCode = \"0%s\" % zipCode\n",
    "        \n",
    "    return zipCode"
   ]
  },
  {
   "cell_type": "code",
   "execution_count": 251,
   "id": "7ed13286",
   "metadata": {},
   "outputs": [],
   "source": [
    "ZHVI.rename(columns = {'RegionName':'Zip'}, inplace = True)\n",
    "ZHVI.Zip = ZHVI.Zip.apply(lengthFive) #make sure all zips are length five (add leading 0s)\n",
    "ZHVI.Zip = ZHVI.Zip.astype(int)"
   ]
  },
  {
   "cell_type": "code",
   "execution_count": 252,
   "id": "c447d73d",
   "metadata": {},
   "outputs": [],
   "source": [
    "df3 =  pd.merge(df_out, ZHVI, on='Zip')"
   ]
  },
  {
   "cell_type": "code",
   "execution_count": 253,
   "id": "902f11cb",
   "metadata": {},
   "outputs": [],
   "source": [
    "df3.drop(['variable', 'RegionID', 'SizeRank', 'RegionType', 'StateName','State', 'City','Metro','CountyName'], axis = 1, inplace = True) # get rid of extra cols"
   ]
  },
  {
   "cell_type": "code",
   "execution_count": 254,
   "id": "f24e1f74",
   "metadata": {},
   "outputs": [],
   "source": [
    "df3 = pd.melt(df3, id_vars =['Name', 'Zip']) # melt dataframe\n",
    "df3.rename(columns = {'variable':'Date', 'value':'ZHVI'}, inplace = True)"
   ]
  },
  {
   "cell_type": "code",
   "execution_count": 263,
   "id": "800594e4",
   "metadata": {},
   "outputs": [
    {
     "name": "stderr",
     "output_type": "stream",
     "text": [
      "C:\\Users\\C23Daniel.Joseph\\AppData\\Local\\Temp\\ipykernel_14748\\214832521.py:2: SettingWithCopyWarning:\n",
      "\n",
      "\n",
      "A value is trying to be set on a copy of a slice from a DataFrame.\n",
      "Try using .loc[row_indexer,col_indexer] = value instead\n",
      "\n",
      "See the caveats in the documentation: https://pandas.pydata.org/pandas-docs/stable/user_guide/indexing.html#returning-a-view-versus-a-copy\n",
      "\n"
     ]
    }
   ],
   "source": [
    "df3 = df3.dropna()"
   ]
  },
  {
   "cell_type": "code",
   "execution_count": 268,
   "id": "ee3a29fa",
   "metadata": {},
   "outputs": [],
   "source": [
    "baseList = df3.Name.unique().tolist()"
   ]
  },
  {
   "cell_type": "code",
   "execution_count": 271,
   "id": "1183bb05",
   "metadata": {},
   "outputs": [],
   "source": [
    "subsets = []\n",
    "\n",
    "for base in baseList:\n",
    "    subset = df3[df3.Name == base]\n",
    "    subsets.append(subset)\n",
    "    "
   ]
  }
 ],
 "metadata": {
  "kernelspec": {
   "display_name": "Python 3 (ipykernel)",
   "language": "python",
   "name": "python3"
  },
  "language_info": {
   "codemirror_mode": {
    "name": "ipython",
    "version": 3
   },
   "file_extension": ".py",
   "mimetype": "text/x-python",
   "name": "python",
   "nbconvert_exporter": "python",
   "pygments_lexer": "ipython3",
   "version": "3.9.13"
  }
 },
 "nbformat": 4,
 "nbformat_minor": 5
}
